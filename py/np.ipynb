{
 "cells": [
  {
   "cell_type": "code",
   "execution_count": 16,
   "metadata": {},
   "outputs": [
    {
     "name": "stdout",
     "output_type": "stream",
     "text": [
      "a: [[1 2 3]\n",
      " [4 5 6]\n",
      " [7 8 9]] (3, 3)\n",
      "b: [[1 4 7]\n",
      " [2 5 8]\n",
      " [3 6 9]]\n",
      "c: [[ 66  78  90]\n",
      " [ 78  93 108]\n",
      " [ 90 108 126]]\n",
      "d: [[ 1  8 21]\n",
      " [ 8 25 48]\n",
      " [21 48 81]]\n",
      "e: [[ 1  4  9]\n",
      " [16 25 36]\n",
      " [49 64 81]]\n",
      "      col1  col2  col3\n",
      "row1     1     2     3\n",
      "row2     4     5     6\n",
      "      row1  row2\n",
      "col1     1     4\n",
      "col2     2     5\n",
      "col3     3     6 (3, 2)\n"
     ]
    }
   ],
   "source": [
    "import numpy as np\n",
    "import pandas as pd\n",
    "a = np.array([[1,2,3],[4,5,6],[7,8,9]])\n",
    "print(\"a:\",a, a.shape)\n",
    "b= a.T\n",
    "print(\"b:\", b)\n",
    "c = a.T.dot(a)\n",
    "d = a.T * a\n",
    "print(\"c:\", c)\n",
    "print(\"d:\", d)\n",
    "\n",
    "e = a * a\n",
    "print(\"e:\", e)\n",
    "\n",
    "\n",
    "matrix = pd.DataFrame([[1, 2, 3], [4, 5, 6]], index=['row1', 'row2'], columns=['col1', 'col2', 'col3'])\n",
    "print(matrix)\n",
    "m_b = matrix.T\n",
    "print(m_b, m_b.shape)"
   ]
  },
  {
   "cell_type": "code",
   "execution_count": null,
   "metadata": {},
   "outputs": [],
   "source": [
    "import matplotlib.pyplot as plt\n",
    "plt."
   ]
  }
 ],
 "metadata": {
  "kernelspec": {
   "display_name": "Python 3",
   "language": "python",
   "name": "python3"
  },
  "language_info": {
   "codemirror_mode": {
    "name": "ipython",
    "version": 3
   },
   "file_extension": ".py",
   "mimetype": "text/x-python",
   "name": "python",
   "nbconvert_exporter": "python",
   "pygments_lexer": "ipython3",
   "version": "3.10.6"
  },
  "orig_nbformat": 4
 },
 "nbformat": 4,
 "nbformat_minor": 2
}
